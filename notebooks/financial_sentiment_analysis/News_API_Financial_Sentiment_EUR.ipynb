{
  "nbformat": 4,
  "nbformat_minor": 0,
  "metadata": {
    "colab": {
      "provenance": []
    },
    "kernelspec": {
      "name": "python3",
      "display_name": "Python 3"
    },
    "language_info": {
      "name": "python"
    }
  },
  "cells": [
    {
      "cell_type": "code",
      "source": [
        "!pip install -q openai langchain pyvis gradio transformers newsapi-python"
      ],
      "metadata": {
        "id": "fBkwMO7kRyZ-",
        "colab": {
          "base_uri": "https://localhost:8080/"
        },
        "outputId": "c8e1bb24-4503-499e-9d46-b7d93daeb7f9"
      },
      "execution_count": 4,
      "outputs": [
        {
          "output_type": "stream",
          "name": "stdout",
          "text": [
            "\u001b[2K     \u001b[90m━━━━━━━━━━━━━━━━━━━━━━━━━━━━━━━━━━━━━━━━\u001b[0m \u001b[32m311.2/311.2 kB\u001b[0m \u001b[31m6.1 MB/s\u001b[0m eta \u001b[36m0:00:00\u001b[0m\n",
            "\u001b[2K     \u001b[90m━━━━━━━━━━━━━━━━━━━━━━━━━━━━━━━━━━━━━━━━\u001b[0m \u001b[32m817.7/817.7 kB\u001b[0m \u001b[31m13.5 MB/s\u001b[0m eta \u001b[36m0:00:00\u001b[0m\n",
            "\u001b[2K     \u001b[90m━━━━━━━━━━━━━━━━━━━━━━━━━━━━━━━━━━━━━━━━\u001b[0m \u001b[32m756.0/756.0 kB\u001b[0m \u001b[31m15.9 MB/s\u001b[0m eta \u001b[36m0:00:00\u001b[0m\n",
            "\u001b[2K     \u001b[90m━━━━━━━━━━━━━━━━━━━━━━━━━━━━━━━━━━━━━━━━\u001b[0m \u001b[32m17.1/17.1 MB\u001b[0m \u001b[31m48.7 MB/s\u001b[0m eta \u001b[36m0:00:00\u001b[0m\n",
            "\u001b[2K     \u001b[90m━━━━━━━━━━━━━━━━━━━━━━━━━━━━━━━━━━━━━━━━\u001b[0m \u001b[32m75.6/75.6 kB\u001b[0m \u001b[31m8.3 MB/s\u001b[0m eta \u001b[36m0:00:00\u001b[0m\n",
            "\u001b[2K     \u001b[90m━━━━━━━━━━━━━━━━━━━━━━━━━━━━━━━━━━━━━━━━\u001b[0m \u001b[32m1.9/1.9 MB\u001b[0m \u001b[31m61.3 MB/s\u001b[0m eta \u001b[36m0:00:00\u001b[0m\n",
            "\u001b[2K     \u001b[90m━━━━━━━━━━━━━━━━━━━━━━━━━━━━━━━━━━━━━━━━\u001b[0m \u001b[32m291.3/291.3 kB\u001b[0m \u001b[31m26.3 MB/s\u001b[0m eta \u001b[36m0:00:00\u001b[0m\n",
            "\u001b[2K     \u001b[90m━━━━━━━━━━━━━━━━━━━━━━━━━━━━━━━━━━━━━━━━\u001b[0m \u001b[32m115.2/115.2 kB\u001b[0m \u001b[31m11.8 MB/s\u001b[0m eta \u001b[36m0:00:00\u001b[0m\n",
            "\u001b[2K     \u001b[90m━━━━━━━━━━━━━━━━━━━━━━━━━━━━━━━━━━━━━━━━\u001b[0m \u001b[32m91.9/91.9 kB\u001b[0m \u001b[31m10.8 MB/s\u001b[0m eta \u001b[36m0:00:00\u001b[0m\n",
            "\u001b[?25h  Preparing metadata (setup.py) ... \u001b[?25l\u001b[?25hdone\n",
            "\u001b[2K     \u001b[90m━━━━━━━━━━━━━━━━━━━━━━━━━━━━━━━━━━━━━━━━\u001b[0m \u001b[32m313.6/313.6 kB\u001b[0m \u001b[31m28.1 MB/s\u001b[0m eta \u001b[36m0:00:00\u001b[0m\n",
            "\u001b[2K     \u001b[90m━━━━━━━━━━━━━━━━━━━━━━━━━━━━━━━━━━━━━━━━\u001b[0m \u001b[32m141.1/141.1 kB\u001b[0m \u001b[31m14.9 MB/s\u001b[0m eta \u001b[36m0:00:00\u001b[0m\n",
            "\u001b[2K     \u001b[90m━━━━━━━━━━━━━━━━━━━━━━━━━━━━━━━━━━━━━━━━\u001b[0m \u001b[32m8.7/8.7 MB\u001b[0m \u001b[31m61.7 MB/s\u001b[0m eta \u001b[36m0:00:00\u001b[0m\n",
            "\u001b[2K     \u001b[90m━━━━━━━━━━━━━━━━━━━━━━━━━━━━━━━━━━━━━━━━\u001b[0m \u001b[32m47.2/47.2 kB\u001b[0m \u001b[31m5.3 MB/s\u001b[0m eta \u001b[36m0:00:00\u001b[0m\n",
            "\u001b[2K     \u001b[90m━━━━━━━━━━━━━━━━━━━━━━━━━━━━━━━━━━━━━━━━\u001b[0m \u001b[32m60.8/60.8 kB\u001b[0m \u001b[31m5.9 MB/s\u001b[0m eta \u001b[36m0:00:00\u001b[0m\n",
            "\u001b[2K     \u001b[90m━━━━━━━━━━━━━━━━━━━━━━━━━━━━━━━━━━━━━━━━\u001b[0m \u001b[32m129.9/129.9 kB\u001b[0m \u001b[31m12.6 MB/s\u001b[0m eta \u001b[36m0:00:00\u001b[0m\n",
            "\u001b[2K     \u001b[90m━━━━━━━━━━━━━━━━━━━━━━━━━━━━━━━━━━━━━━━━\u001b[0m \u001b[32m49.4/49.4 kB\u001b[0m \u001b[31m5.8 MB/s\u001b[0m eta \u001b[36m0:00:00\u001b[0m\n",
            "\u001b[2K     \u001b[90m━━━━━━━━━━━━━━━━━━━━━━━━━━━━━━━━━━━━━━━━\u001b[0m \u001b[32m77.9/77.9 kB\u001b[0m \u001b[31m9.6 MB/s\u001b[0m eta \u001b[36m0:00:00\u001b[0m\n",
            "\u001b[2K     \u001b[90m━━━━━━━━━━━━━━━━━━━━━━━━━━━━━━━━━━━━━━━━\u001b[0m \u001b[32m58.3/58.3 kB\u001b[0m \u001b[31m6.2 MB/s\u001b[0m eta \u001b[36m0:00:00\u001b[0m\n",
            "\u001b[2K     \u001b[90m━━━━━━━━━━━━━━━━━━━━━━━━━━━━━━━━━━━━━━━━\u001b[0m \u001b[32m1.6/1.6 MB\u001b[0m \u001b[31m68.7 MB/s\u001b[0m eta \u001b[36m0:00:00\u001b[0m\n",
            "\u001b[2K     \u001b[90m━━━━━━━━━━━━━━━━━━━━━━━━━━━━━━━━━━━━━━━━\u001b[0m \u001b[32m53.0/53.0 kB\u001b[0m \u001b[31m6.4 MB/s\u001b[0m eta \u001b[36m0:00:00\u001b[0m\n",
            "\u001b[2K     \u001b[90m━━━━━━━━━━━━━━━━━━━━━━━━━━━━━━━━━━━━━━━━\u001b[0m \u001b[32m71.9/71.9 kB\u001b[0m \u001b[31m8.1 MB/s\u001b[0m eta \u001b[36m0:00:00\u001b[0m\n",
            "\u001b[?25h  Building wheel for ffmpy (setup.py) ... \u001b[?25l\u001b[?25hdone\n",
            "\u001b[31mERROR: pip's dependency resolver does not currently take into account all the packages that are installed. This behaviour is the source of the following dependency conflicts.\n",
            "spacy 3.7.4 requires typer<0.10.0,>=0.3.0, but you have typer 0.12.3 which is incompatible.\n",
            "weasel 0.3.4 requires typer<0.10.0,>=0.3.0, but you have typer 0.12.3 which is incompatible.\u001b[0m\u001b[31m\n",
            "\u001b[0m"
          ]
        }
      ]
    },
    {
      "cell_type": "code",
      "source": [
        "import pandas as pd\n",
        "import numpy as np\n",
        "from newsapi.newsapi_client import NewsApiClient\n",
        "import gradio as gr\n",
        "\n",
        "from transformers import AutoTokenizer, AutoModelForSequenceClassification\n",
        "from transformers import pipeline"
      ],
      "metadata": {
        "id": "poBER82X7Zn4"
      },
      "execution_count": 7,
      "outputs": []
    },
    {
      "cell_type": "markdown",
      "source": [
        "## **Financial Sentiment Analysis**\n",
        "We download news articles using newsapi Python client related to the Eurozone or EUR currency from the NewsAPI portal. For this, I wrote a method that fetches news articles for the specified date. Following search terms are used in the query:\n",
        "\n",
        "  * \"European Commission\"\n",
        "  * \"EU\"\n",
        "  * \"European Central Bank\"\n",
        "  * \"ECB\"\n",
        "  * \"Eurozone\"\n",
        "  * \"EUR currency\".\n",
        "\n",
        "Then, I used a transformer language model (LLM) from HuggingFace's transformers library to generate sentiment scores for the downloaded articles. The sentiments for each article's title and content are then calculated and added to the DataFrame.\n",
        "\n",
        "Finally, I'll extend it using the gradio library such that I can take input a headline of article via interface and predict the sentiment using the LLM."
      ],
      "metadata": {
        "id": "TxNrQ2Otmn4A"
      }
    },
    {
      "cell_type": "code",
      "source": [
        "# Initialize the NewsAPI client with your API key\n",
        "newsapi = NewsApiClient(api_key=<YOUR_API_KEY>)"
      ],
      "metadata": {
        "id": "ZTPywqyU5L5C"
      },
      "execution_count": 73,
      "outputs": []
    },
    {
      "cell_type": "code",
      "source": [
        "# Define a function to fetch news and generate sentiments\n",
        "def fetch_news_and_sentiment(query, from_date, to_date, pipeline):\n",
        "  # Fetch news articles\n",
        "  all_articles = newsapi.get_everything(q=query,\n",
        "  from_param=from_date,\n",
        "  to=to_date,\n",
        "  language='en',\n",
        "  sort_by='publishedAt')\n",
        "\n",
        "  # Generate sentiments for the articles\n",
        "  sentiments = []\n",
        "  for article in all_articles['articles']:\n",
        "    sentiment = pipeline(article['title'])\n",
        "    sentiments.append({\n",
        "    'date': article['publishedAt'],\n",
        "    'title': article['title'],\n",
        "    'sentiment': sentiment[0]['label']\n",
        "    })\n",
        "\n",
        "  return sentiments"
      ],
      "metadata": {
        "id": "YFu_V7apZC-g"
      },
      "execution_count": 74,
      "outputs": []
    },
    {
      "cell_type": "code",
      "source": [
        "# Load the tokenizer and model from Hugging Face's model repository\n",
        "model_name = \"distilbert-base-uncased-finetuned-sst-2-english\"\n",
        "tokenizer = AutoTokenizer.from_pretrained(model_name)\n",
        "model = AutoModelForSequenceClassification.from_pretrained(model_name)\n",
        "\n",
        "# Create a sentiment analysis pipeline using the specific model\n",
        "sentiment_analysis = pipeline('sentiment-analysis', model=model, tokenizer=tokenizer)"
      ],
      "metadata": {
        "id": "Y77eBkPQ5UIR"
      },
      "execution_count": 75,
      "outputs": []
    },
    {
      "cell_type": "code",
      "source": [
        "sentiments = fetch_news_and_sentiment('\"European Commission\" OR \"EU\" OR \"European Central Bank\" OR \"ECB\" OR \"Eurozone\" OR \"EUR currency\"','2024-04-01','2024-04-19', sentiment_analysis)\n",
        "for sentiment in sentiments:\n",
        "  print(sentiment)"
      ],
      "metadata": {
        "colab": {
          "base_uri": "https://localhost:8080/"
        },
        "id": "bXzK26FNZjZ7",
        "outputId": "7708b263-5504-42df-da3c-7755fa34518a"
      },
      "execution_count": 76,
      "outputs": [
        {
          "output_type": "stream",
          "name": "stdout",
          "text": [
            "{'date': '2024-04-19T23:33:23Z', 'title': \"Blinken: Military operation in Rafah would have 'terrible consequences' for civilians\", 'sentiment': 'NEGATIVE'}\n",
            "{'date': '2024-04-19T23:28:00Z', 'title': 'Football: Vitesse docked 18 points amid Russia finance probe', 'sentiment': 'NEGATIVE'}\n",
            "{'date': '2024-04-19T23:14:48Z', 'title': 'Risks Digest 34.18', 'sentiment': 'NEGATIVE'}\n",
            "{'date': '2024-04-19T23:05:24Z', 'title': 'Irish GPs have come under pressure to prescribe hormones, gender service consultant claims', 'sentiment': 'NEGATIVE'}\n",
            "{'date': '2024-04-19T23:00:36Z', 'title': 'World Leaders Urge Restraint After Israel Attacks Iran', 'sentiment': 'NEGATIVE'}\n",
            "{'date': '2024-04-19T22:57:00Z', 'title': 'Apple’s offer to open up NFC reportedly to be approved by EU next month', 'sentiment': 'POSITIVE'}\n",
            "{'date': '2024-04-19T22:55:00Z', 'title': 'Apple Users in Europe Get a New Third-Party App Store - CNET', 'sentiment': 'NEGATIVE'}\n",
            "{'date': '2024-04-19T22:41:38Z', 'title': 'Scholz Visit to China Draws Trepidation Over Germany’s Economic Dependence, European Disunity', 'sentiment': 'NEGATIVE'}\n",
            "{'date': '2024-04-19T22:40:02Z', 'title': 'Pornhub, Stripchat, and XVideos will have to comply with additional obligations, such as submitting risk assessment reports, under the EU DSA starting next week (Foo Yun Chee/Reuters)', 'sentiment': 'NEGATIVE'}\n",
            "{'date': '2024-04-19T22:30:00Z', 'title': 'Asian shares slump as Mideast risk rises', 'sentiment': 'NEGATIVE'}\n",
            "{'date': '2024-04-19T22:30:00Z', 'title': 'An opaque situation', 'sentiment': 'NEGATIVE'}\n",
            "{'date': '2024-04-19T22:30:00Z', 'title': 'Asian shares slump as Mideast risk rises', 'sentiment': 'NEGATIVE'}\n",
            "{'date': '2024-04-19T22:18:04Z', 'title': \"App to cut EU border queues won't be ready in time\", 'sentiment': 'NEGATIVE'}\n",
            "{'date': '2024-04-19T22:16:06Z', 'title': 'NCAA plans probe as Nigerians endure 14-hour flight delay in Paris', 'sentiment': 'NEGATIVE'}\n",
            "{'date': '2024-04-19T22:12:57Z', 'title': 'NATO Military Equipment is Already in Moscow Tanks, drones, missiles...They warned Russia!', 'sentiment': 'NEGATIVE'}\n",
            "{'date': '2024-04-19T22:10:55Z', 'title': 'Might Meta Go Pay-Only in the EU?', 'sentiment': 'NEGATIVE'}\n",
            "{'date': '2024-04-19T22:01:50Z', 'title': \"Proceeds from Russian assets could fund bond sales, Ukraine's central bank says\", 'sentiment': 'NEGATIVE'}\n",
            "{'date': '2024-04-19T21:54:15Z', 'title': 'MITRE revealed that nation-state actors breached its systems via Ivanti zero-days', 'sentiment': 'NEGATIVE'}\n",
            "{'date': '2024-04-19T21:53:36Z', 'title': 'Apple Users in Europe Get a New Third-Party App Store', 'sentiment': 'NEGATIVE'}\n",
            "{'date': '2024-04-19T21:47:03Z', 'title': \"'Get your hat and leave,' Hungary's Orban tells EU top officials\", 'sentiment': 'POSITIVE'}\n",
            "{'date': '2024-04-19T21:45:39Z', 'title': 'G7 pledges swift aid for Ukraine, seeks to calm Middle East', 'sentiment': 'POSITIVE'}\n",
            "{'date': '2024-04-19T21:37:54Z', 'title': 'Amazon Simple Email Service is now available in the AWS GovCloud (US-East) Region', 'sentiment': 'NEGATIVE'}\n",
            "{'date': '2024-04-19T21:28:33Z', 'title': 'EU member worried about ‘underground’ mosques – media', 'sentiment': 'NEGATIVE'}\n",
            "{'date': '2024-04-19T21:19:00Z', 'title': 'UK rules out EU-wide deal on work and study visas for young people', 'sentiment': 'POSITIVE'}\n",
            "{'date': '2024-04-19T21:05:20Z', 'title': \"Jadranski naftovod d d : JANAF's 7th International Energy Conference brings together experts and representatives of the energy sector's leading companies\", 'sentiment': 'POSITIVE'}\n",
            "{'date': '2024-04-19T21:00:06Z', 'title': 'Federal budget does not change fiscal track, says Macklem', 'sentiment': 'NEGATIVE'}\n",
            "{'date': '2024-04-19T21:00:00Z', 'title': 'I want the Moto X double twist camera shortcut to come back… for Google Lens', 'sentiment': 'NEGATIVE'}\n",
            "{'date': '2024-04-19T20:56:11Z', 'title': 'EU Regulators Set to Accept Apple’s Proposals on Tap-and-Go Tech', 'sentiment': 'NEGATIVE'}\n",
            "{'date': '2024-04-19T20:49:11Z', 'title': 'Temu’s Advertising Avalanche Is Impossible to Ignore', 'sentiment': 'POSITIVE'}\n",
            "{'date': '2024-04-19T20:46:14Z', 'title': 'EU\\xa0Regulators Set to Accept Apple’s Proposals on Tap-and-Go Tech', 'sentiment': 'NEGATIVE'}\n",
            "{'date': '2024-04-19T20:46:08Z', 'title': \"S&P revises Greece's outlook to 'positive' on debt reduction\", 'sentiment': 'POSITIVE'}\n",
            "{'date': '2024-04-19T20:30:00Z', 'title': 'Papers: Zidane would prefer Man Utd job over Bayern Munich', 'sentiment': 'NEGATIVE'}\n",
            "{'date': '2024-04-19T20:26:20Z', 'title': 'Confiscating Russian assets has ramifications, IMF warns', 'sentiment': 'NEGATIVE'}\n",
            "{'date': '2024-04-19T20:24:33Z', 'title': 'Pornhub, XVideos, Stripchat Face Strict EU Rules', 'sentiment': 'NEGATIVE'}\n",
            "{'date': '2024-04-19T20:24:07Z', 'title': 'Feintool International : Stack up on expertise! Feintool and SITEC at the «Hydrogen + Fuel Cells EUROPE» in Hannover', 'sentiment': 'POSITIVE'}\n",
            "{'date': '2024-04-19T20:10:13Z', 'title': 'Teekay : 69 Pitts Bay Road, Hamilton, HM 08 Bermuda - Form 6-K', 'sentiment': 'POSITIVE'}\n",
            "{'date': '2024-04-19T20:01:44Z', 'title': 'Hype Taxi Using Massive European Grants To Pay For Champagne-Scale Hydrogen Costs', 'sentiment': 'NEGATIVE'}\n",
            "{'date': '2024-04-19T20:01:02Z', 'title': 'UN refugee agency tells Cyprus to stick to the law in its efforts at sea to thwart refugee boats', 'sentiment': 'NEGATIVE'}\n",
            "{'date': '2024-04-19T20:00:17Z', 'title': 'Here’s Ripple CEO’s prediction for post-Bitcoin halving market', 'sentiment': 'NEGATIVE'}\n",
            "{'date': '2024-04-19T19:53:59Z', 'title': 'You may not need Apple Pay to tap and pay with your EU iPhone soon', 'sentiment': 'NEGATIVE'}\n",
            "{'date': '2024-04-19T19:53:36Z', 'title': 'Mount Juliet estate up for sale with €45m price tag for hotel and golf resort', 'sentiment': 'NEGATIVE'}\n",
            "{'date': '2024-04-19T19:50:20Z', 'title': 'Q&A: How crypto market intelligence prevents governmental and institutional fraud and crime', 'sentiment': 'POSITIVE'}\n",
            "{'date': '2024-04-19T19:42:17Z', 'title': 'IMF Calls On EU To Deepen Single Market Integration To Boost Growth', 'sentiment': 'POSITIVE'}\n",
            "{'date': '2024-04-19T19:39:58Z', 'title': 'IMF calls on EU to deepen single market integration to boost growth', 'sentiment': 'POSITIVE'}\n",
            "{'date': '2024-04-19T19:37:24Z', 'title': 'Smale sets out to cause a storm in allrounder ranks', 'sentiment': 'POSITIVE'}\n",
            "{'date': '2024-04-19T19:34:33Z', 'title': \"Croatia's top court rules President Milanović cannot be prime minister after inconclusive election\", 'sentiment': 'NEGATIVE'}\n",
            "{'date': '2024-04-19T19:30:08Z', 'title': 'Nokia Corporation: Repurchase of own shares on 19.04.2024', 'sentiment': 'NEGATIVE'}\n",
            "{'date': '2024-04-19T19:30:00Z', 'title': 'Nokia Corporation: Repurchase of own shares on 19.04.2024', 'sentiment': 'NEGATIVE'}\n",
            "{'date': '2024-04-19T19:29:36Z', 'title': 'Google Chat with enhanced interoperability launched', 'sentiment': 'POSITIVE'}\n",
            "{'date': '2024-04-19T19:22:41Z', 'title': 'Iran signals no retaliation plans after suspected Israeli drone attack', 'sentiment': 'NEGATIVE'}\n",
            "{'date': '2024-04-19T19:16:39Z', 'title': 'Meet Laundry Day, The Funniest Band On Your ‘For You’ Page', 'sentiment': 'POSITIVE'}\n",
            "{'date': '2024-04-19T19:15:19Z', 'title': 'Other Barks & Bites for Friday, April 19: European Court Rejects Pablo Escobar Trademark; Federal Agencies Launch Anti-Competitive Healthcare Practices Portal; and Reddit Cracks Down on Copyright Infringement', 'sentiment': 'NEGATIVE'}\n",
            "{'date': '2024-04-19T19:14:23Z', 'title': 'UK Rejects EU Proposal to Ease Travel for Young Adults', 'sentiment': 'NEGATIVE'}\n",
            "{'date': '2024-04-19T19:10:38Z', 'title': 'ECB’s Wunsch Says Decisions Will Become Tougher After Two Cuts', 'sentiment': 'NEGATIVE'}\n",
            "{'date': '2024-04-19T19:04:29Z', 'title': 'US to Advance Carbon Offset Standards to Prevent Greenwashing', 'sentiment': 'POSITIVE'}\n",
            "{'date': '2024-04-19T19:03:17Z', 'title': \"ECB's Lagarde says inflation more likely to ease but risks both ways\", 'sentiment': 'NEGATIVE'}\n",
            "{'date': '2024-04-19T18:50:55Z', 'title': 'Essex pace bowlers shine against Lancashire', 'sentiment': 'POSITIVE'}\n",
            "{'date': '2024-04-19T18:49:05Z', 'title': 'Late wickets check Gloucs progress at Sussex', 'sentiment': 'NEGATIVE'}\n",
            "{'date': '2024-04-19T18:44:03Z', 'title': 'Provenance emulator coming to the App Store with support for PlayStation games', 'sentiment': 'NEGATIVE'}\n",
            "{'date': '2024-04-19T18:39:30Z', 'title': 'Davies ton puts Warwickshire on top over Hampshire', 'sentiment': 'POSITIVE'}\n",
            "{'date': '2024-04-19T18:35:28Z', 'title': 'Bowlers on top between Worcestershire & Durham', 'sentiment': 'POSITIVE'}\n",
            "{'date': '2024-04-19T18:33:12Z', 'title': 'Windows Insider Beta Channel Gets New Features While Canary Testers Move to Build 26200', 'sentiment': 'NEGATIVE'}\n",
            "{'date': '2024-04-19T18:29:16Z', 'title': 'Tap-To-Pay Coming Soon to Europe: Regulators To Approve Apple’s Plan Next Month', 'sentiment': 'NEGATIVE'}\n",
            "{'date': '2024-04-19T18:28:11Z', 'title': 'Harris helps Foxes profit from Derbyshire drops', 'sentiment': 'POSITIVE'}\n",
            "{'date': '2024-04-19T18:25:51Z', 'title': '[EU] Dragonflight Season 4 Content Update Notes', 'sentiment': 'NEGATIVE'}\n",
            "{'date': '2024-04-19T18:24:05Z', 'title': 'Natuzzi Celebrates Its 65th Anniversary by Bringing Its Harmony and Its New Collections on the Stage of the High Point Market in US and of the Design Week in Milan', 'sentiment': 'POSITIVE'}\n",
            "{'date': '2024-04-19T18:23:03Z', 'title': 'Somerset dominate opening day against Notts', 'sentiment': 'NEGATIVE'}\n",
            "{'date': '2024-04-19T18:21:45Z', 'title': '[EU] Dragonflight Season 4 Content Update Notes', 'sentiment': 'NEGATIVE'}\n",
            "{'date': '2024-04-19T18:15:06Z', 'title': 'Natuzzi Celebrates Its 65th Anniversary by Bringing Its Harmony and Its New Collections on the Stage of the High Point Market in US and of the Design Week in Milan', 'sentiment': 'POSITIVE'}\n",
            "{'date': '2024-04-19T18:15:05Z', 'title': 'EU Commission holds bring-your-pet-to-work days — but attack dogs are banned', 'sentiment': 'NEGATIVE'}\n",
            "{'date': '2024-04-19T18:14:22Z', 'title': \"Root and Brook miss out for Yorkshire at Lord's\", 'sentiment': 'NEGATIVE'}\n",
            "{'date': '2024-04-19T18:10:09Z', 'title': 'Fusion-energy quest makes big advance with EU-Japan reactor', 'sentiment': 'POSITIVE'}\n",
            "{'date': '2024-04-19T18:08:09Z', 'title': 'Brexit border checks to go ahead, says British government', 'sentiment': 'NEGATIVE'}\n",
            "{'date': '2024-04-19T18:06:04Z', 'title': 'Crawley goes cheaply after Surrey put Kent in', 'sentiment': 'NEGATIVE'}\n",
            "{'date': '2024-04-19T18:02:09Z', 'title': 'Skechers USA Unlikely To Raise Outlook Due To Eurozone Hurdles, Says Analyst', 'sentiment': 'NEGATIVE'}\n",
            "{'date': '2024-04-19T18:02:00Z', 'title': 'Porn Sites Face Strict EU Rules, Commission Says', 'sentiment': 'NEGATIVE'}\n",
            "{'date': '2024-04-19T18:00:00Z', 'title': 'Nine things to do in Auckland this weekend: Musicals, conventions and kid-friendly activities', 'sentiment': 'POSITIVE'}\n",
            "{'date': '2024-04-19T18:00:00Z', 'title': 'Laravel Facades - Write Testable Code', 'sentiment': 'NEGATIVE'}\n",
            "{'date': '2024-04-19T18:00:00Z', 'title': 'Shop local key focus of new Northland food store, in the wake of EU restrictions', 'sentiment': 'POSITIVE'}\n",
            "{'date': '2024-04-19T18:00:00Z', 'title': 'Cranky Weekly Review Presented by Oakland International Airport: Earnings for United and Alaska, JetBlue Shakes Things Up', 'sentiment': 'NEGATIVE'}\n",
            "{'date': '2024-04-19T17:56:57Z', 'title': 'This Week in AI: Proposed Federal Oversight, Cybersecurity, Gaming Development', 'sentiment': 'POSITIVE'}\n",
            "{'date': '2024-04-19T17:53:56Z', 'title': 'Taking Time to Understand NIS2 Reporting Requirements', 'sentiment': 'NEGATIVE'}\n",
            "{'date': '2024-04-19T17:53:16Z', 'title': \"Telecom Italia's grid sale to KKR faces May 30 EU antitrust deadline\", 'sentiment': 'NEGATIVE'}\n",
            "{'date': '2024-04-19T17:52:05Z', 'title': 'Transaction in Own Shares', 'sentiment': 'POSITIVE'}\n",
            "{'date': '2024-04-19T17:48:51Z', 'title': 'Bank of America added 200 roles in Dublin as EU hub’s profits jumped', 'sentiment': 'POSITIVE'}\n",
            "{'date': '2024-04-19T17:47:45Z', 'title': 'Europe falters on boosting weapons supplies to Ukraine, as US military aid held up', 'sentiment': 'NEGATIVE'}\n",
            "{'date': '2024-04-19T17:45:24Z', 'title': 'If approved, Provenance will bring PlayStation, Wii, GameCube, Sega and other emulators to iPhone and Apple TV', 'sentiment': 'POSITIVE'}\n",
            "{'date': '2024-04-19T17:44:03Z', 'title': \"Apple's offer to open up tap-and-go tech to be approved by EU next month, sources say\", 'sentiment': 'NEGATIVE'}\n",
            "{'date': '2024-04-19T17:41:11Z', 'title': 'Transaction in Own Shares', 'sentiment': 'POSITIVE'}\n",
            "{'date': '2024-04-19T17:40:05Z', 'title': 'Transaction in Own Shares', 'sentiment': 'POSITIVE'}\n",
            "{'date': '2024-04-19T17:39:00Z', 'title': 'Transaction in Own Shares', 'sentiment': 'POSITIVE'}\n",
            "{'date': '2024-04-19T17:34:07Z', 'title': \"Rihanna's 'Fenty effect' could teach AI developers about inclusivity and fighting bias\", 'sentiment': 'NEGATIVE'}\n",
            "{'date': '2024-04-19T17:32:17Z', 'title': '7500+ Divertidos Juegos De Gambling enterprise Gratis', 'sentiment': 'NEGATIVE'}\n",
            "{'date': '2024-04-19T17:30:01Z', 'title': \"Sources: EU may accept Apple's proposal to open its NFC payments tech to rivals, and may close its antitrust probe in May, letting Apple avoid hefty fines (Foo Yun Chee/Reuters)\", 'sentiment': 'NEGATIVE'}\n",
            "{'date': '2024-04-19T17:26:51Z', 'title': 'TTArtisan AF 56mm f/1.8 Released: Save 10% and Some Reviews', 'sentiment': 'NEGATIVE'}\n",
            "{'date': '2024-04-19T17:26:07Z', 'title': '‘Reality check’ for the green transition', 'sentiment': 'NEGATIVE'}\n",
            "{'date': '1970-01-01T00:00:00Z', 'title': '[Removed]', 'sentiment': 'NEGATIVE'}\n",
            "{'date': '2024-04-19T17:21:31Z', 'title': 'Apple Pay NFC tech in iPhone will likely get opened up soon in the EU', 'sentiment': 'NEGATIVE'}\n",
            "{'date': '2024-04-19T17:20:09Z', 'title': 'NATO ‘one step away’ from sending troops to Ukraine – Orban', 'sentiment': 'NEGATIVE'}\n",
            "{'date': '2024-04-19T17:18:04Z', 'title': 'UN refugee agency tells Cyprus to stick to the law in its efforts at sea to thwart refugee boats', 'sentiment': 'NEGATIVE'}\n"
          ]
        }
      ]
    },
    {
      "cell_type": "code",
      "source": [],
      "metadata": {
        "id": "x4RTPvig5ccY"
      },
      "execution_count": null,
      "outputs": []
    },
    {
      "cell_type": "markdown",
      "source": [
        "### **Quick LLM-based Web App**\n",
        "I extend this using the gradio library such that I can take input a headline of article via interface and predict the sentiment using the LLM."
      ],
      "metadata": {
        "id": "Z8H5kEnQ5dfI"
      }
    },
    {
      "cell_type": "code",
      "source": [
        "# Define a function for the Gradio interface to predict sentiment\n",
        "def predict_sentiment(headline):\n",
        "  sentiment = sentiment_analysis(headline)\n",
        "  return sentiment[0]['label']\n",
        "\n",
        "# Create the Gradio interface\n",
        "iface = gr.Interface(\n",
        "        fn=predict_sentiment,\n",
        "        inputs=gr.Textbox(lines=2, placeholder=\"Enter a news headline here...\"),\n",
        "        outputs=gr.Label(),\n",
        "        title=\"Financial Sentiment Analysis!\",\n",
        "        description=\"This interface predicts the financial sentiment of a news headline using a transformer model.\"\n",
        ")\n",
        "# Run the Gradio interface\n",
        "iface.launch()"
      ],
      "metadata": {
        "colab": {
          "base_uri": "https://localhost:8080/",
          "height": 625
        },
        "id": "FRBq8wrpmmsV",
        "outputId": "36df9f76-6d5f-4f6f-8e16-049a819cfa86"
      },
      "execution_count": 77,
      "outputs": [
        {
          "output_type": "stream",
          "name": "stdout",
          "text": [
            "Setting queue=True in a Colab notebook requires sharing enabled. Setting `share=True` (you can turn this off by setting `share=False` in `launch()` explicitly).\n",
            "\n",
            "Colab notebook detected. To show errors in colab notebook, set debug=True in launch()\n",
            "Running on public URL: https://706ed2a29a1980b0a7.gradio.live\n",
            "\n",
            "This share link expires in 72 hours. For free permanent hosting and GPU upgrades, run `gradio deploy` from Terminal to deploy to Spaces (https://huggingface.co/spaces)\n"
          ]
        },
        {
          "output_type": "display_data",
          "data": {
            "text/plain": [
              "<IPython.core.display.HTML object>"
            ],
            "text/html": [
              "<div><iframe src=\"https://706ed2a29a1980b0a7.gradio.live\" width=\"100%\" height=\"500\" allow=\"autoplay; camera; microphone; clipboard-read; clipboard-write;\" frameborder=\"0\" allowfullscreen></iframe></div>"
            ]
          },
          "metadata": {}
        },
        {
          "output_type": "execute_result",
          "data": {
            "text/plain": []
          },
          "metadata": {},
          "execution_count": 77
        }
      ]
    },
    {
      "cell_type": "markdown",
      "source": [],
      "metadata": {
        "id": "I8oMsfUNOuW4"
      }
    }
  ]
}